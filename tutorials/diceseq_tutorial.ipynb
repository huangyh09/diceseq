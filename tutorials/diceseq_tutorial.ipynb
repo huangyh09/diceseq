{
 "metadata": {
  "name": "",
  "signature": "sha256:fcc56ce3d65e49f183fe1a7d8874807c50150910371236c74c2c767dc59dd2e3"
 },
 "nbformat": 3,
 "nbformat_minor": 0,
 "worksheets": [
  {
   "cells": [
    {
     "cell_type": "heading",
     "level": 3,
     "metadata": {},
     "source": [
      "Tutorial of DICEseq analysis"
     ]
    },
    {
     "cell_type": "markdown",
     "metadata": {},
     "source": [
      "This tutorial is to show how to use the DICEseq results for analysis."
     ]
    },
    {
     "cell_type": "heading",
     "level": 4,
     "metadata": {},
     "source": [
      "0. Define functions for Gaussian process analysis"
     ]
    },
    {
     "cell_type": "code",
     "collapsed": false,
     "input": [
      "import numpy as np\n",
      "def get_CI(data, percent=0.95):\n",
      "    \"\"\"calculate the confidence intervals\n",
      "    \"\"\"\n",
      "    if len(data.shape) == 0:\n",
      "        data = data.reshape(-1,1)\n",
      "    RV = np.zeros((data.shape[1],2))\n",
      "    CI_idx = int(data.shape[0] * (1-percent)/2)\n",
      "    for k in range(data.shape[1]):\n",
      "        temp = np.sort(data[:,k])\n",
      "        RV[k,:] = [temp[-CI_idx], temp[CI_idx]]\n",
      "    return RV\n",
      "\n",
      "def GP_K(X, theta, x=None):\n",
      "    \"\"\"calculate the covariance matrix\n",
      "    \"\"\"\n",
      "    N = len(X)\n",
      "    if x is None:\n",
      "        K = np.zeros((N, N))\n",
      "        for i in range(N):\n",
      "            for j in range(N):\n",
      "                K[i,j] = theta[0] * np.exp(-0.5/theta[1]*(X[i]-X[j])**2)\n",
      "    else:\n",
      "        K = np.zeros(N)\n",
      "        for i in range(N):\n",
      "            K[i] = theta[0] * np.exp(-0.5/theta[1]*(X[i]-x)**2)\n",
      "    return K\n",
      "\n",
      "def GP_predict(Theta, X, Y, Yvar, xx):\n",
      "    \"\"\"predict by GP with its parameters\n",
      "    \"\"\"\n",
      "    if len(np.array(xx).shape) == 0:\n",
      "        xx = np.array([xx])\n",
      "    yy = np.zeros(xx.shape[0])\n",
      "    ss = np.zeros(xx.shape[0])\n",
      "\n",
      "    K0 = GP_K(X, Theta)\n",
      "    for i in range(K0.shape[0]):\n",
      "        K0[i,i] += Yvar[i]\n",
      "    K2 = Theta[0]\n",
      "\n",
      "    for i in range(xx.shape[0]):\n",
      "        K1 = GP_K(X, Theta, xx[i])\n",
      "        yy[i] = np.dot(np.dot(K1, np.linalg.inv(K0)), Y)\n",
      "        ss[i] = K2 - np.dot(np.dot(K1, np.linalg.inv(K0)), np.transpose(K1))\n",
      "    return yy, ss\n",
      "\n",
      "def GP_sample_predict(Theta, X, Yall, xx):\n",
      "    \"\"\"predict by GP with its all samples\n",
      "    \"\"\"\n",
      "    if len(np.array(xx).shape) == 0:\n",
      "        xx = np.array([xx])\n",
      "    yy = np.zeros((Yall.shape[0], xx.shape[0]))\n",
      "\n",
      "    K0 = GP_K(X, Theta)\n",
      "    K2 = Theta[0]\n",
      "\n",
      "    for i in range(xx.shape[0]):\n",
      "        idx = np.where(abs(xx[i] - X)<10**(-10))[0]\n",
      "        if len(idx) == 1:\n",
      "            yy[:,i] = Yall[:,idx[0]]\n",
      "            continue\n",
      "        K1 = GP_K(X, Theta, xx[i])\n",
      "        for j in range(Yall.shape[0]):\n",
      "            _y = np.dot(np.dot(K1, np.linalg.inv(K0)), Yall[j,:])\n",
      "            _v = K2 - np.dot(np.dot(K1, np.linalg.inv(K0)), np.transpose(K1))\n",
      "            yy[j,i] = np.random.normal(_y, np.sqrt(_v))\n",
      "    return yy\n",
      "\n",
      "def YtoPsi(y):\n",
      "    \"\"\"softmax function: transfer y to psi\n",
      "    \"\"\"\n",
      "    return np.exp(y) / (np.exp(y) + 1)"
     ],
     "language": "python",
     "metadata": {},
     "outputs": [],
     "prompt_number": 1
    },
    {
     "cell_type": "heading",
     "level": 4,
     "metadata": {},
     "source": [
      "1. Load the data"
     ]
    },
    {
     "cell_type": "code",
     "collapsed": false,
     "input": [
      "import h5py\n",
      "import numpy as np\n",
      "\n",
      "data_dir = \"/media/Data/research/splicing/data/circadian/ratio/\"\n",
      "\n",
      "f = h5py.File(data_dir + \"Liv_joint_70.0.unique.hdf5\", \"r\")\n",
      "X = np.array(f[\"X\"])\n",
      "gene_info = np.array(f[\"gene_info\"])\n",
      "count_liv = np.array(f[\"count\"])[:,:]\n",
      "y_var_liv = np.array(f[\"y_var\"])[:,0,:]\n",
      "y_mean_liv = np.array(f[\"y_mean\"])[:,0,:]\n",
      "psi_75_liv = np.array(f[\"psi_75\"])[:,0,:,:]\n",
      "psi_95_liv = np.array(f[\"psi_95\"])[:,0,:,:]\n",
      "psi_var_liv = np.array(f[\"psi_var\"])[:,0,:]\n",
      "psi_mean_liv = np.array(f[\"psi_mean\"])[:,0,:]\n",
      "pro_mean_liv = np.array(f[\"pro_mean\"])\n",
      "lik_marg_liv = np.array(f[\"lik_marg\"])\n",
      "sample_liv = np.array(f[\"sample_all\"])\n",
      "f.close()\n",
      "\n",
      "f = h5py.File(data_dir + \"Lun_joint_70.0.unique.hdf5\", \"r\")\n",
      "X = np.array(f[\"X\"])\n",
      "gene_info = np.array(f[\"gene_info\"])\n",
      "count_lun = np.array(f[\"count\"])\n",
      "y_var_lun = np.array(f[\"y_var\"])[:,0,:]\n",
      "y_mean_lun = np.array(f[\"y_mean\"])[:,0,:]\n",
      "psi_75_lun = np.array(f[\"psi_75\"])[:,0,:,:]\n",
      "psi_95_lun = np.array(f[\"psi_95\"])[:,0,:,:]\n",
      "psi_var_lun = np.array(f[\"psi_var\"])[:,0,:]\n",
      "psi_mean_lun = np.array(f[\"psi_mean\"])[:,0,:]\n",
      "pro_mean_lun = np.array(f[\"pro_mean\"])\n",
      "lik_marg_lun = np.array(f[\"lik_marg\"])\n",
      "sample_lun = np.array(f[\"sample_all\"])\n",
      "f.close()\n",
      "\n",
      "f = h5py.File(data_dir + \"Liv_Lun_joint_70.0.unique.hdf5\", \"r\")\n",
      "X = np.array(f[\"X\"])\n",
      "gene_info = np.array(f[\"gene_info\"])\n",
      "count_both = np.array(f[\"count\"])\n",
      "y_var_both = np.array(f[\"y_var\"])[:,0,:]\n",
      "y_mean_both = np.array(f[\"y_mean\"])[:,0,:]\n",
      "psi_75_both = np.array(f[\"psi_75\"])[:,0,:,:]\n",
      "psi_95_both = np.array(f[\"psi_95\"])[:,0,:,:]\n",
      "psi_var_both = np.array(f[\"psi_var\"])[:,0,:]\n",
      "psi_mean_both = np.array(f[\"psi_mean\"])[:,0,:]\n",
      "pro_mean_both = np.array(f[\"pro_mean\"])\n",
      "lik_marg_both = np.array(f[\"lik_marg\"])\n",
      "f.close()"
     ],
     "language": "python",
     "metadata": {},
     "outputs": [],
     "prompt_number": 2
    },
    {
     "cell_type": "heading",
     "level": 4,
     "metadata": {},
     "source": [
      "2. Plot the gaussian process"
     ]
    },
    {
     "cell_type": "code",
     "collapsed": false,
     "input": [
      "import pylab as pl\n",
      "import matplotlib\n",
      "% matplotlib inline\n",
      "matplotlib.rcParams['pdf.fonttype'] = 42\n",
      "matplotlib.rcParams['font.sans-serif'] = \"Arial\"\n",
      "\n",
      "i = 753\n",
      "\n",
      "fig = pl.figure()\n",
      "Theta = [3.0, 70]\n",
      "X = np.arange(22,70,6)\n",
      "xx = np.arange(20,66,1.0)\n",
      "\n",
      "sample = sample_liv[i,:,0,:].reshape(500,-1)\n",
      "psi1s = YtoPsi(sample)\n",
      "psi1_95 = get_CI(psi1s)\n",
      "psi1_mean = np.mean(psi1s, axis=0)\n",
      "yy = GP_sample_predict(Theta, X, np.random.permutation(sample)[:500,:], xx)\n",
      "pred_95 = get_CI(YtoPsi(yy))\n",
      "pred_mean = np.mean(YtoPsi(yy), axis=0)\n",
      "\n",
      "psi_err = [psi_mean_liv[i,:]-psi1_95[:,1], psi1_95[:,0]-psi_mean_liv[i,:]]\n",
      "pl.errorbar(X, psi_mean_liv[i,:], psi_err, fmt='r.', markersize=7, label=u'estimate')\n",
      "pl.plot(xx, pred_mean, 'b-', label=\"GP predict\")\n",
      "pl.fill(np.concatenate([xx, xx[::-1]]), np.concatenate([pred_95[:,0], pred_95[:,1][::-1]]), \n",
      "        alpha=.3, fc='b', ec='None', label=\"95%CI\")\n",
      "\n",
      "pl.xlabel('$t$ in hour')\n",
      "pl.ylabel('$\\psi(t)$')\n",
      "pl.ylim(-0.02, 1.02)\n",
      "pl.xticks(X,np.arange(22,70,6))\n",
      "pl.xlim(20, 66)\n",
      "pl.title(\"example gene\")\n",
      "pl.legend(loc=\"best\")\n",
      "\n",
      "fig.set_size_inches(6,4)\n",
      "# fig.savefig(\"out1.pdf\", dpi=300, bbox_inches='tight')\n",
      "pl.show()"
     ],
     "language": "python",
     "metadata": {},
     "outputs": [
      {
       "metadata": {},
       "output_type": "display_data",
       "png": "[encoded data removed]",
       "text": [
        "<matplotlib.figure.Figure at 0x7f24c02591d0>"
       ]
      }
     ],
     "prompt_number": 4
    },
    {
     "cell_type": "heading",
     "level": 4,
     "metadata": {},
     "source": [
      "3. Differential splicing by Bayes factor"
     ]
    },
    {
     "cell_type": "code",
     "collapsed": false,
     "input": [
      "BF = np.exp((lik_marg_liv + lik_marg_lun) - lik_marg_both)\n",
      "\n",
      "print \"There are %d out of %d genes with BF > 10.\" %(sum(BF>10), len(BF))"
     ],
     "language": "python",
     "metadata": {},
     "outputs": [
      {
       "output_type": "stream",
       "stream": "stdout",
       "text": [
        "There are 2620 out of 3510 genes with BF > 10.\n"
       ]
      }
     ],
     "prompt_number": 6
    },
    {
     "cell_type": "code",
     "collapsed": false,
     "input": [
      "import pylab as pl\n",
      "import matplotlib\n",
      "% matplotlib inline\n",
      "matplotlib.rcParams['pdf.fonttype'] = 42\n",
      "matplotlib.rcParams['font.sans-serif'] = \"Arial\"\n",
      "\n",
      "i = 1378#753\n",
      "print \"This is the %dth gene, and the BF is %.2f\" %(i, BF[i])\n",
      "print \"The reads count for liver in two days:\", count_liv[i,:]\n",
      "print \"The reads count for lung  in two days:\", count_lun[i,:]\n",
      "\n",
      "fig = pl.figure()\n",
      "Theta = [3.0, 70]\n",
      "X = np.arange(22,70,6)\n",
      "xx = np.arange(20,66,1.0)\n",
      "\n",
      "sample = sample_liv[i,:,0,:].reshape(500,-1)\n",
      "psi1s = YtoPsi(sample)\n",
      "psi1_95 = get_CI(psi1s)\n",
      "psi1_mean = np.mean(psi1s, axis=0)\n",
      "yy = GP_sample_predict(Theta, X, np.random.permutation(sample)[:500,:], xx)\n",
      "pred_95 = get_CI(YtoPsi(yy))\n",
      "pred_mean = np.mean(YtoPsi(yy), axis=0)\n",
      "\n",
      "psi_err = [psi_mean_liv[i,:]-psi1_95[:,1], psi1_95[:,0]-psi_mean_liv[i,:]]\n",
      "pl.errorbar(X, psi_mean_liv[i,:], psi_err, fmt='b^', markersize=7, label=u'liver')\n",
      "pl.plot(xx, pred_mean, 'b-')\n",
      "pl.fill(np.concatenate([xx, xx[::-1]]), np.concatenate([pred_95[:,0], pred_95[:,1][::-1]]), \n",
      "        alpha=.3, fc='b', ec='None')\n",
      "\n",
      "sample = sample_lun[i,:,0,:].reshape(500,-1)\n",
      "psi1s = YtoPsi(sample)\n",
      "psi1_95 = get_CI(psi1s)\n",
      "psi1_mean = np.mean(psi1s, axis=0)\n",
      "yy = GP_sample_predict(Theta, X, np.random.permutation(sample)[:500,:], xx)\n",
      "pred_95 = get_CI(YtoPsi(yy))\n",
      "pred_mean = np.mean(YtoPsi(yy), axis=0)\n",
      "\n",
      "psi_err = [psi_mean_lun[i,:]-psi1_95[:,1], psi1_95[:,0]-psi_mean_lun[i,:]]\n",
      "pl.errorbar(X, psi_mean_lun[i,:], psi_err, fmt='g^', markersize=7, label=u'lung')\n",
      "pl.plot(xx, pred_mean, 'g-')\n",
      "pl.fill(np.concatenate([xx, xx[::-1]]), np.concatenate([pred_95[:,0], pred_95[:,1][::-1]]), \n",
      "        alpha=.3, fc='g', ec='None')\n",
      "\n",
      "pl.xlabel('$t$ in hour')\n",
      "pl.ylabel('$\\psi(t)$')\n",
      "pl.ylim(-0.02, 1.02)\n",
      "pl.xticks(X,np.arange(22,70,6))\n",
      "pl.xlim(20, 66)\n",
      "pl.title(\"example gene\")\n",
      "pl.legend(loc=\"best\")\n",
      "\n",
      "fig.set_size_inches(6,4)\n",
      "# fig.savefig(\"out2.pdf\", dpi=300, bbox_inches='tight')\n",
      "pl.show()"
     ],
     "language": "python",
     "metadata": {},
     "outputs": [
      {
       "output_type": "stream",
       "stream": "stdout",
       "text": [
        "This is the 1378th gene, and the BF is 571.76\n",
        "The reads count for liver in two days: [143 136 239 228 158 185 131 101]\n",
        "The reads count for lung  in two days: [ 18  84  86 140 116 183 300  70]\n"
       ]
      },
      {
       "metadata": {},
       "output_type": "display_data",
       "png": "[encoded data removed]",
       "text": [
        "<matplotlib.figure.Figure at 0x7f24c013b690>"
       ]
      }
     ],
     "prompt_number": 7
    },
    {
     "cell_type": "code",
     "collapsed": false,
     "input": [],
     "language": "python",
     "metadata": {},
     "outputs": []
    },
    {
     "cell_type": "code",
     "collapsed": false,
     "input": [],
     "language": "python",
     "metadata": {},
     "outputs": []
    }
   ],
   "metadata": {}
  }
 ]
}